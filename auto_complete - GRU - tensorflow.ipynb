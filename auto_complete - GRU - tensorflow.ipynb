{
  "cells": [
    {
      "cell_type": "code",
      "execution_count": 5,
      "metadata": {},
      "outputs": [],
      "source": [
        "import numpy as np\n",
        "import pandas as pd\n",
        "import tensorflow as tf\n",
        "import re\n",
        "from tensorflow.keras.preprocessing.text import Tokenizer\n",
        "from tensorflow.keras.preprocessing.sequence import pad_sequences\n",
        "from tensorflow.keras.models import Sequential\n",
        "from tensorflow.keras.layers import Embedding, GRU, Dense\n",
        "\n",
        "def load_arabic_data():\n",
        "\n",
        "    train = pd.read_csv(\"train.csv\", encoding='utf-8')\n",
        "    valid = pd.read_csv(\"valid.csv\", encoding='utf-8')\n",
        "    corpus= train['correct'].tolist()\n",
        "    return corpus\n",
        "\n",
        "def preprocess_arabic(corpus):\n",
        "    # Arabic corpus normalization\n",
        "    corpus = re.sub(r'[^\\u0600-\\u06FF\\u0750-\\u077F\\u08A0-\\u08FF]+', ' ', corpus)\n",
        "    corpus = re.sub(r'\\s+', ' ', corpus).strip()\n",
        "    return corpus\n",
        "\n",
        "corpus=load_arabic_data()\n",
        "corpus = [preprocess_arabic(text) for text in corpus]\n",
        "corpus = corpus[:1000]  # Limit to 1000 samples for demonstration\n",
        "# Step 2: Tokenize the Text\n",
        "tokenizer = Tokenizer()\n",
        "tokenizer.fit_on_texts(corpus)\n",
        "vocab_size = len(tokenizer.word_index) + 1  # Add 1 for padding token\n",
        "sequences = tokenizer.texts_to_sequences(corpus)\n",
        "\n",
        "# Create input-target pairs\n",
        "input_sequences = []\n",
        "target_words = []\n",
        "seq_len = 3  # Sequence length\n",
        "\n",
        "for seq in sequences:\n",
        "    for i in range(len(seq) - seq_len):\n",
        "        input_sequences.append(seq[i:i + seq_len])\n",
        "        target_words.append(seq[i + seq_len])\n",
        "\n",
        "# Pad sequences to ensure uniform input size\n",
        "input_sequences = pad_sequences(input_sequences, maxlen=seq_len, padding='pre')\n",
        "target_words = np.array(target_words)\n",
        "\n",
        "# Step 3: Define the Model\n",
        "embedding_dim = 50  # Size of embeddings\n",
        "hidden_dim = 64     # Size of GRU hidden state\n",
        "\n",
        "# model = Sequential([\n",
        "#     Embedding(input_dim=vocab_size, output_dim=embedding_dim, input_length=seq_len),\n",
        "#     GRU(hidden_dim, return_sequences=False),  # Return only the last hidden state\n",
        "#     Dense(vocab_size, activation='softmax')   # Output layer with softmax for vocabulary\n",
        "# ])\n",
        "\n",
        "# # Compile the model\n",
        "# model.compile(optimizer='adam', loss='sparse_categorical_crossentropy', metrics=['accuracy'])\n",
        "\n",
        "# # Step 4: Train the Model\n",
        "# epochs = 10\n",
        "# batch_size = 2\n",
        "\n",
        "# model.fit(input_sequences, target_words, epochs=epochs, batch_size=batch_size)\n",
        "\n",
        "# Step 5: Generate Predictions\n",
        "\n"
      ]
    },
    {
      "cell_type": "code",
      "execution_count": 3,
      "metadata": {},
      "outputs": [],
      "source": [
        "def predict_next_word(model, tokenizer, text, seq_len):\n",
        "    # Tokenize and pad the input text\n",
        "    tokenized_text = tokenizer.texts_to_sequences([text])[0]\n",
        "    padded_text = pad_sequences([tokenized_text[-seq_len:]], maxlen=seq_len, padding='pre')\n",
        "    \n",
        "    # Predict the next word\n",
        "    predictions = model.predict(padded_text)\n",
        "    predicted_index = np.argmax(predictions, axis=-1)[0]\n",
        "    \n",
        "    # Map index back to word\n",
        "    for word, index in tokenizer.word_index.items():\n",
        "        if index == predicted_index:\n",
        "            return word\n",
        "    return \"<UNK>\"\n"
      ]
    },
    {
      "cell_type": "code",
      "execution_count": 18,
      "metadata": {},
      "outputs": [
        {
          "name": "stdout",
          "output_type": "stream",
          "text": [
            "\u001b[1m1/1\u001b[0m \u001b[32m━━━━━━━━━━━━━━━━━━━━\u001b[0m\u001b[37m\u001b[0m \u001b[1m0s\u001b[0m 340ms/step\n",
            "Next word after 'السلام عليكم و': عليه\n"
          ]
        }
      ],
      "source": [
        "# Example usage\n",
        "test_sentence = \"السلام عليكم و\"\n",
        "next_word = predict_next_word(model, tokenizer, test_sentence, seq_len)\n",
        "print(f\"Next word after '{test_sentence}': {next_word}\")"
      ]
    },
    {
      "cell_type": "code",
      "execution_count": 24,
      "metadata": {},
      "outputs": [
        {
          "name": "stderr",
          "output_type": "stream",
          "text": [
            "WARNING:absl:You are saving your model as an HDF5 file via `model.save()` or `keras.saving.save_model(model)`. This file format is considered legacy. We recommend using instead the native Keras format, e.g. `model.save('my_model.keras')` or `keras.saving.save_model(model, 'my_model.keras')`. \n"
          ]
        }
      ],
      "source": [
        "#save the model\n",
        "model.save('arabic_gru_model.h5')"
      ]
    },
    {
      "cell_type": "code",
      "execution_count": 1,
      "metadata": {},
      "outputs": [
        {
          "name": "stderr",
          "output_type": "stream",
          "text": [
            "WARNING:absl:Compiled the loaded model, but the compiled metrics have yet to be built. `model.compile_metrics` will be empty until you train or evaluate the model.\n"
          ]
        }
      ],
      "source": [
        "from tensorflow.keras.models import load_model\n",
        "# Load the model\n",
        "loaded_model = load_model('arabic_gru_model.h5')\n",
        "# Example usage of the loaded model\n",
        "test_sentence = \"السلام عليكم \""
      ]
    },
    {
      "cell_type": "code",
      "execution_count": 6,
      "metadata": {},
      "outputs": [
        {
          "name": "stdout",
          "output_type": "stream",
          "text": [
            "\u001b[1m1/1\u001b[0m \u001b[32m━━━━━━━━━━━━━━━━━━━━\u001b[0m\u001b[37m\u001b[0m \u001b[1m0s\u001b[0m 332ms/step\n",
            "Next word after 'السلام عليكم ': السلام\n"
          ]
        }
      ],
      "source": [
        "model = loaded_model\n",
        "next_word = predict_next_word(model, tokenizer, test_sentence, seq_len)\n",
        "print(f\"Next word after '{test_sentence}': {next_word}\")"
      ]
    },
    {
      "cell_type": "code",
      "execution_count": null,
      "metadata": {},
      "outputs": [],
      "source": []
    }
  ],
  "metadata": {
    "colab": {
      "provenance": []
    },
    "kernelspec": {
      "display_name": "base",
      "language": "python",
      "name": "python3"
    },
    "language_info": {
      "codemirror_mode": {
        "name": "ipython",
        "version": 3
      },
      "file_extension": ".py",
      "mimetype": "text/x-python",
      "name": "python",
      "nbconvert_exporter": "python",
      "pygments_lexer": "ipython3",
      "version": "3.12.7"
    }
  },
  "nbformat": 4,
  "nbformat_minor": 0
}
